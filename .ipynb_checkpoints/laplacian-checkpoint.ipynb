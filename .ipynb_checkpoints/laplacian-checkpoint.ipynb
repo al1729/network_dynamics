{
 "cells": [
  {
   "cell_type": "code",
   "execution_count": 54,
   "metadata": {},
   "outputs": [],
   "source": [
    "import pandas as pd \n",
    "import os\n",
    "import csv\n",
    "import networkx as nx\n",
    "import matplotlib\n",
    "import matplotlib.pyplot as plt\n",
    "import numpy as np \n",
    "from scipy import sparse"
   ]
  },
  {
   "cell_type": "code",
   "execution_count": 33,
   "metadata": {},
   "outputs": [
    {
     "name": "stdout",
     "output_type": "stream",
     "text": [
      "Requirement already satisfied: networkx in /Users/andyliu/anaconda3/lib/python3.8/site-packages (2.4)\n",
      "Requirement already satisfied: decorator>=4.3.0 in /Users/andyliu/anaconda3/lib/python3.8/site-packages (from networkx) (4.4.2)\n"
     ]
    }
   ],
   "source": [
    "!pip install networkx"
   ]
  },
  {
   "cell_type": "code",
   "execution_count": 37,
   "metadata": {},
   "outputs": [],
   "source": [
    "\n",
    "#special = ['United States of America', 'Germany', 'United Kingdom of Great Britain and Northern Ireland', 'China', 'Russian Federation', 'France', 'Brazil', 'South Africa', 'Nigeria']\n",
    "\n",
    "#for future filtering usage\n",
    "class Treaty():\n",
    "\n",
    "    def __init__(self, number, title, bilateral, reg_date, participants):\n",
    "        \n",
    "        self.number = number\n",
    "        self.title = title\n",
    "        self.reg_date = reg_date\n",
    "        self.bilateral = bilateral\n",
    "        self.participants = participants\n",
    "\n",
    "    def get_number(self):\n",
    "        return(self.number)\n",
    "    def __str__(self):\n",
    "        return(self.title)\n",
    "    def get_date(self):\n",
    "        return(self.reg_date)\n",
    "    def is_bilateral(self):\n",
    "        return(self.bilateral)\n",
    "    def get_participants(self):\n",
    "        return(self.participants)\n",
    "#return coordinates of each country"
   ]
  },
  {
   "cell_type": "code",
   "execution_count": 40,
   "metadata": {},
   "outputs": [],
   "source": [
    "treaties_csv = '/Users/andyliu/develop/sideprojects/un_treaty_network/treaties-merged.csv'\n",
    "treaties = []\n",
    "countries_dic = {}\n",
    "countries_dic_num = {}\n",
    "#read treaties into a list\n",
    "with open(treaties_csv, encoding='utf-8') as f:\n",
    "    readCSV = csv.reader(f)\n",
    "    next(readCSV)\n",
    "    for row in readCSV:\n",
    "\n",
    "        participantsstring = row[4][1:-1]\n",
    "        participants = (participantsstring.replace('\\'', '')).split(\",\")\n",
    "        for i in range(1,len(participants)):\n",
    "            participants[i] = participants[i][1:]\n",
    "\n",
    "        treaty = Treaty(row[0], row[1], row[2], row[3], participants)\n",
    "        treaties.append(treaty)"
   ]
  },
  {
   "cell_type": "code",
   "execution_count": 41,
   "metadata": {},
   "outputs": [],
   "source": [
    "#create dictionary\n",
    "for treaty in treaties:\n",
    "    participants = treaty.get_participants()\n",
    "    for i in range(0,len(participants)):\n",
    "        if i<len(participants)-1:\n",
    "            for j in range(i,len(participants)):\n",
    "                country_i = participants[i]\n",
    "                country_j = participants[j]\n",
    "                try:\n",
    "                    countries_dic[country_i][country_j] = countries_dic[country_i][country_j].append(treaty)\n",
    "                    countries_dic_num[country_i][country_j]+=1\n",
    "                except (KeyError, AttributeError):\n",
    "                    try:\n",
    "                        countries_dic[country_i][country_j] = [treaty]\n",
    "                        countries_dic_num[country_i][country_j] = 1\n",
    "                    except KeyError:\n",
    "                        countries_dic[country_i] = {country_j:[treaty]}\n",
    "                        countries_dic_num[country_i] = {country_j:1}\n",
    "\n",
    "                try:\n",
    "                    countries_dic[country_j][country_i] = countries_dic[country_j][country_i].append(treaty)\n",
    "                    countries_dic_num[country_j][country_i]+=1\n",
    "                except (KeyError, AttributeError):\n",
    "                    try:\n",
    "                        countries_dic[country_j][country_i] = [treaty]\n",
    "                        countries_dic_num[country_j][country_i] = 1\n",
    "                    except KeyError:\n",
    "                        countries_dic[country_j] = {country_i:[treaty]}\n",
    "                        countries_dic_num[country_j] = {country_i:1}"
   ]
  },
  {
   "cell_type": "code",
   "execution_count": 42,
   "metadata": {},
   "outputs": [],
   "source": [
    "#add weights (for compatability with networkx)\n",
    "for k, d in countries_dic_num.items():\n",
    "    for ik in d:\n",
    "        d[ik] = {'weight': d[ik]}\n",
    "\n",
    "graph = nx.from_dict_of_dicts(countries_dic_num)"
   ]
  },
  {
   "cell_type": "code",
   "execution_count": null,
   "metadata": {},
   "outputs": [],
   "source": [
    "#2021 CODE STARTS HERE"
   ]
  },
  {
   "cell_type": "code",
   "execution_count": 43,
   "metadata": {},
   "outputs": [],
   "source": [
    "un_laplacian = nx.linalg.laplacianmatrix.laplacian_matrix(graph)"
   ]
  },
  {
   "cell_type": "code",
   "execution_count": 47,
   "metadata": {},
   "outputs": [
    {
     "data": {
      "text/plain": [
       "<matplotlib.lines.Line2D at 0x7fde14d31910>"
      ]
     },
     "execution_count": 47,
     "metadata": {},
     "output_type": "execute_result"
    },
    {
     "data": {
      "image/png": "[encoded data removed]",
      "text/plain": [
       "<Figure size 432x288 with 1 Axes>"
      ]
     },
     "metadata": {
      "needs_background": "light"
     },
     "output_type": "display_data"
    }
   ],
   "source": [
    "plt.spy(un_laplacian)"
   ]
  },
  {
   "cell_type": "code",
   "execution_count": 49,
   "metadata": {},
   "outputs": [
    {
     "data": {
      "text/plain": [
       "<matplotlib.lines.Line2D at 0x7fde1407c8b0>"
      ]
     },
     "execution_count": 49,
     "metadata": {},
     "output_type": "execute_result"
    },
    {
     "data": {
      "image/png": "[encoded data removed]",
      "text/plain": [
       "<Figure size 432x288 with 1 Axes>"
      ]
     },
     "metadata": {
      "needs_background": "light"
     },
     "output_type": "display_data"
    }
   ],
   "source": [
    "un_adjacency = nx.linalg.graphmatrix.adjacency_matrix(graph)\n",
    "plt.spy(un_adjacency)\n",
    "#adjacency and laplacian matrices appear similar due to weights not being displayed\n",
    "#we then turn to heatmaps"
   ]
  },
  {
   "cell_type": "code",
   "execution_count": 50,
   "metadata": {},
   "outputs": [],
   "source": [
    "import seaborn as sns"
   ]
  },
  {
   "cell_type": "code",
   "execution_count": 52,
   "metadata": {},
   "outputs": [
    {
     "data": {
      "text/plain": [
       "scipy.sparse.csr.csr_matrix"
      ]
     },
     "execution_count": 52,
     "metadata": {},
     "output_type": "execute_result"
    }
   ],
   "source": [
    "type(un_laplacian)"
   ]
  },
  {
   "cell_type": "code",
   "execution_count": 57,
   "metadata": {},
   "outputs": [
    {
     "data": {
      "image/png": "[encoded data removed]",
      "text/plain": [
       "<Figure size 432x288 with 2 Axes>"
      ]
     },
     "metadata": {
      "needs_background": "light"
     },
     "output_type": "display_data"
    }
   ],
   "source": [
    "#scipy.sparse.csr_matrix.toarray\n",
    "laplacian_array = sparse.csr_matrix.toarray(un_laplacian)\n",
    "sns.heatmap(laplacian_array)\n",
    "plt.show()"
   ]
  },
  {
   "cell_type": "code",
   "execution_count": 58,
   "metadata": {},
   "outputs": [],
   "source": [
    "#is our graph connected?"
   ]
  },
  {
   "cell_type": "code",
   "execution_count": 67,
   "metadata": {},
   "outputs": [],
   "source": [
    "eigenvalues = np.linalg.eig(laplacian_array)[0]\n",
    "eigenvalues.sort()"
   ]
  },
  {
   "cell_type": "code",
   "execution_count": 73,
   "metadata": {},
   "outputs": [
    {
     "name": "stdout",
     "output_type": "stream",
     "text": [
      "1.716057950035247e-13\n",
      "1.9691368881714075\n"
     ]
    }
   ],
   "source": [
    "print(eigenvalues[0]) #we see that 0 is an eigenvalue, but of multiplicity 1 -> connected!\n",
    "print(eigenvalues[1]) #algebraic connectivity ~ 2"
   ]
  },
  {
   "cell_type": "code",
   "execution_count": 74,
   "metadata": {},
   "outputs": [],
   "source": [
    "#6.4 demonstration"
   ]
  },
  {
   "cell_type": "code",
   "execution_count": 86,
   "metadata": {},
   "outputs": [],
   "source": [
    "fiedler = np.linalg.eig(laplacian_array)[1][1]\n",
    "fiedler.sort()"
   ]
  },
  {
   "cell_type": "code",
   "execution_count": 88,
   "metadata": {},
   "outputs": [
    {
     "data": {
      "text/plain": [
       "[<matplotlib.lines.Line2D at 0x7fde187bfe20>]"
      ]
     },
     "execution_count": 88,
     "metadata": {},
     "output_type": "execute_result"
    },
    {
     "data": {
      "image/png": "[encoded data removed]",
      "text/plain": [
       "<Figure size 432x288 with 1 Axes>"
      ]
     },
     "metadata": {
      "needs_background": "light"
     },
     "output_type": "display_data"
    }
   ],
   "source": [
    "plt.plot(fiedler) #\"bottleneck\" is around 95"
   ]
  },
  {
   "cell_type": "code",
   "execution_count": null,
   "metadata": {},
   "outputs": [],
   "source": []
  },
  {
   "cell_type": "code",
   "execution_count": null,
   "metadata": {},
   "outputs": [],
   "source": []
  }
 ],
 "metadata": {
  "kernelspec": {
   "display_name": "Python 3",
   "language": "python",
   "name": "python3"
  },
  "language_info": {
   "codemirror_mode": {
    "name": "ipython",
    "version": 3
   },
   "file_extension": ".py",
   "mimetype": "text/x-python",
   "name": "python",
   "nbconvert_exporter": "python",
   "pygments_lexer": "ipython3",
   "version": "3.8.3"
  }
 },
 "nbformat": 4,
 "nbformat_minor": 4
}
