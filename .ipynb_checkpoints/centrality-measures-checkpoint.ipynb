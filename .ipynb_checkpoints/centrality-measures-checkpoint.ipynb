{
 "cells": [
  {
   "cell_type": "code",
   "execution_count": 55,
   "metadata": {},
   "outputs": [],
   "source": [
    "#February 8, 2021\n",
    "#Andy Liu (HMC '23) - investigating usage of different centrality measures on a UN treaty graph"
   ]
  },
  {
   "cell_type": "code",
   "execution_count": 3,
   "metadata": {},
   "outputs": [],
   "source": [
    "import pandas as pd \n",
    "import os\n",
    "import csv\n",
    "import networkx as nx\n",
    "import matplotlib\n",
    "import matplotlib.pyplot as plt\n",
    "import numpy as np \n",
    "from scipy import sparse"
   ]
  },
  {
   "cell_type": "code",
   "execution_count": 5,
   "metadata": {},
   "outputs": [],
   "source": [
    "\n",
    "#special = ['United States of America', 'Germany', 'United Kingdom of Great Britain and Northern Ireland', 'China', 'Russian Federation', 'France', 'Brazil', 'South Africa', 'Nigeria']\n",
    "\n",
    "#for future filtering usage\n",
    "class Treaty():\n",
    "\n",
    "    def __init__(self, number, title, bilateral, reg_date, participants):\n",
    "        \n",
    "        self.number = number\n",
    "        self.title = title\n",
    "        self.reg_date = reg_date\n",
    "        self.bilateral = bilateral\n",
    "        self.participants = participants\n",
    "\n",
    "    def get_number(self):\n",
    "        return(self.number)\n",
    "    def __str__(self):\n",
    "        return(self.title)\n",
    "    def get_date(self):\n",
    "        return(self.reg_date)\n",
    "    def is_bilateral(self):\n",
    "        return(self.bilateral)\n",
    "    def get_participants(self):\n",
    "        return(self.participants)\n",
    "#return coordinates of each country"
   ]
  },
  {
   "cell_type": "code",
   "execution_count": 6,
   "metadata": {},
   "outputs": [],
   "source": [
    "treaties_csv = '/Users/andyliu/develop/sideprojects/un_treaty_network/treaties-merged.csv'\n",
    "treaties = []\n",
    "countries_dic = {}\n",
    "countries_dic_num = {}\n",
    "#read treaties into a list\n",
    "with open(treaties_csv, encoding='utf-8') as f:\n",
    "    readCSV = csv.reader(f)\n",
    "    next(readCSV)\n",
    "    for row in readCSV:\n",
    "\n",
    "        participantsstring = row[4][1:-1]\n",
    "        participants = (participantsstring.replace('\\'', '')).split(\",\")\n",
    "        for i in range(1,len(participants)):\n",
    "            participants[i] = participants[i][1:]\n",
    "\n",
    "        treaty = Treaty(row[0], row[1], row[2], row[3], participants)\n",
    "        treaties.append(treaty)"
   ]
  },
  {
   "cell_type": "code",
   "execution_count": 7,
   "metadata": {},
   "outputs": [],
   "source": [
    "#create dictionary\n",
    "for treaty in treaties:\n",
    "    participants = treaty.get_participants()\n",
    "    for i in range(0,len(participants)):\n",
    "        if i<len(participants)-1:\n",
    "            for j in range(i,len(participants)):\n",
    "                country_i = participants[i]\n",
    "                country_j = participants[j]\n",
    "                try:\n",
    "                    countries_dic[country_i][country_j] = countries_dic[country_i][country_j].append(treaty)\n",
    "                    countries_dic_num[country_i][country_j]+=1\n",
    "                except (KeyError, AttributeError):\n",
    "                    try:\n",
    "                        countries_dic[country_i][country_j] = [treaty]\n",
    "                        countries_dic_num[country_i][country_j] = 1\n",
    "                    except KeyError:\n",
    "                        countries_dic[country_i] = {country_j:[treaty]}\n",
    "                        countries_dic_num[country_i] = {country_j:1}\n",
    "\n",
    "                try:\n",
    "                    countries_dic[country_j][country_i] = countries_dic[country_j][country_i].append(treaty)\n",
    "                    countries_dic_num[country_j][country_i]+=1\n",
    "                except (KeyError, AttributeError):\n",
    "                    try:\n",
    "                        countries_dic[country_j][country_i] = [treaty]\n",
    "                        countries_dic_num[country_j][country_i] = 1\n",
    "                    except KeyError:\n",
    "                        countries_dic[country_j] = {country_i:[treaty]}\n",
    "                        countries_dic_num[country_j] = {country_i:1}"
   ]
  },
  {
   "cell_type": "code",
   "execution_count": 10,
   "metadata": {},
   "outputs": [],
   "source": [
    "#add weights (for compatability with networkx)\n",
    "for k, d in countries_dic_num.items():\n",
    "    for ik in d:\n",
    "        d[ik] = {'weight': d[ik]}\n",
    "\n",
    "G = nx.from_dict_of_dicts(countries_dic_num)"
   ]
  },
  {
   "cell_type": "code",
   "execution_count": 45,
   "metadata": {},
   "outputs": [],
   "source": [
    "n_top = 5"
   ]
  },
  {
   "cell_type": "code",
   "execution_count": 47,
   "metadata": {},
   "outputs": [
    {
     "data": {
      "text/plain": [
       "{'Germany': 0.8020833333333333,\n",
       " 'France': 0.7916666666666666,\n",
       " 'United Kingdom of Great Britain and Northern Ireland': 0.7864583333333333,\n",
       " 'Netherlands': 0.78125,\n",
       " 'United States of America': 0.7291666666666666}"
      ]
     },
     "execution_count": 47,
     "metadata": {},
     "output_type": "execute_result"
    }
   ],
   "source": [
    "degree_centrality = nx.degree_centrality(G)\n",
    "dc = {k: v for k, v in sorted(degree_centrality.items(), key=lambda item: item[1], reverse=True)[:n_top]}\n",
    "#Germany, France, UK, Netherlands, USA top 5 by degree centrality\n",
    "dc"
   ]
  },
  {
   "cell_type": "code",
   "execution_count": 48,
   "metadata": {},
   "outputs": [
    {
     "data": {
      "text/plain": [
       "{'Germany': 0.16140333660878148,\n",
       " 'Netherlands': 0.16104584644952136,\n",
       " 'United Kingdom of Great Britain and Northern Ireland': 0.16087862621372223,\n",
       " 'France': 0.1599939462848011,\n",
       " 'United States of America': 0.15399079873121022}"
      ]
     },
     "execution_count": 48,
     "metadata": {},
     "output_type": "execute_result"
    }
   ],
   "source": [
    "eigenvector_centrality = nx.eigenvector_centrality_numpy(G)\n",
    "ec = {k: v for k, v in sorted(eigenvector_centrality.items(), key=lambda item: item[1], reverse=True)[:n_top]}\n",
    "ec\n",
    "#Germany, Netherlands, UK, France, USA"
   ]
  },
  {
   "cell_type": "code",
   "execution_count": 49,
   "metadata": {},
   "outputs": [
    {
     "data": {
      "text/plain": [
       "{'\"Democratic Peoples Republic of Korea\"': 0.19780751706933117,\n",
       " 'Republic of Korea': 0.19780751706933117,\n",
       " 'Mongolia': 0.1820691251429529,\n",
       " 'Albania': 0.13544422770377648,\n",
       " 'Romania': 0.13292683130989122}"
      ]
     },
     "execution_count": 49,
     "metadata": {},
     "output_type": "execute_result"
    }
   ],
   "source": [
    "katz_centrality = nx.katz_centrality_numpy(G, alpha=0.1)\n",
    "{k: v for k, v in sorted(katz_centrality.items(), key=lambda item: item[1], reverse=True)[:n_top]}\n",
    "#seems broken..."
   ]
  },
  {
   "cell_type": "code",
   "execution_count": 50,
   "metadata": {},
   "outputs": [
    {
     "data": {
      "text/plain": [
       "{'Germany': 0.14154994106502547,\n",
       " 'United Kingdom of Great Britain and Northern Ireland': 0.14050916502427843,\n",
       " 'France': 0.1404901949588748,\n",
       " 'Netherlands': 0.14004841706898433,\n",
       " 'United States of America': 0.1343829620627288}"
      ]
     },
     "execution_count": 50,
     "metadata": {},
     "output_type": "execute_result"
    }
   ],
   "source": [
    "katz_centrality = nx.katz_centrality_numpy(G, alpha=0.01)\n",
    "kc = {k: v for k, v in sorted(katz_centrality.items(), key=lambda item: item[1], reverse=True)[:n_top]}\n",
    "#because our alpha was too high\n",
    "#(must be less than reciprocal of max. eigenvalue)\n",
    "#Germany, UK, France, Netherlands, USA\n",
    "kc"
   ]
  },
  {
   "cell_type": "code",
   "execution_count": 37,
   "metadata": {},
   "outputs": [],
   "source": [
    "#pagerank_centrality = nx.pagerank_numpy(G, alpha=0.85)\n",
    "#deprecated?"
   ]
  },
  {
   "cell_type": "code",
   "execution_count": 51,
   "metadata": {},
   "outputs": [
    {
     "data": {
      "text/plain": [
       "{'Germany': 0.8275862068965517,\n",
       " 'France': 0.8205128205128205,\n",
       " 'United Kingdom of Great Britain and Northern Ireland': 0.8170212765957446,\n",
       " 'Netherlands': 0.8135593220338984,\n",
       " 'United States of America': 0.7804878048780488}"
      ]
     },
     "execution_count": 51,
     "metadata": {},
     "output_type": "execute_result"
    }
   ],
   "source": [
    "closeness_centrality = nx.closeness_centrality(G)\n",
    "cc = {k: v for k, v in sorted(closeness_centrality.items(), key=lambda item: item[1], reverse=True)[:n_top]}\n",
    "#Germany, France, UK, Netherlands, USA\n",
    "cc"
   ]
  },
  {
   "cell_type": "code",
   "execution_count": 52,
   "metadata": {},
   "outputs": [
    {
     "data": {
      "text/plain": [
       "{'France': 0.06319258048899991,\n",
       " 'Germany': 0.060142366547652266,\n",
       " 'Netherlands': 0.05993321128248173,\n",
       " 'United Kingdom of Great Britain and Northern Ireland': 0.058129965320823165,\n",
       " 'United States of America': 0.047952794486176537}"
      ]
     },
     "execution_count": 52,
     "metadata": {},
     "output_type": "execute_result"
    }
   ],
   "source": [
    "betweenness_centrality = nx.betweenness_centrality(G)\n",
    "bc = {k: v for k, v in sorted(betweenness_centrality.items(), key=lambda item: item[1], reverse=True)[:n_top]}\n",
    "#France, Germany, Netherlands, UK, USA\n",
    "bc"
   ]
  },
  {
   "cell_type": "code",
   "execution_count": 53,
   "metadata": {},
   "outputs": [],
   "source": [
    "#TODO: compare performance between countries -> use to theorize?"
   ]
  },
  {
   "cell_type": "code",
   "execution_count": 54,
   "metadata": {},
   "outputs": [],
   "source": [
    "#France does better on closeness/betweenness, Germany on rest"
   ]
  },
  {
   "cell_type": "code",
   "execution_count": null,
   "metadata": {},
   "outputs": [],
   "source": []
  }
 ],
 "metadata": {
  "kernelspec": {
   "display_name": "Python 3",
   "language": "python",
   "name": "python3"
  },
  "language_info": {
   "codemirror_mode": {
    "name": "ipython",
    "version": 3
   },
   "file_extension": ".py",
   "mimetype": "text/x-python",
   "name": "python",
   "nbconvert_exporter": "python",
   "pygments_lexer": "ipython3",
   "version": "3.8.3"
  }
 },
 "nbformat": 4,
 "nbformat_minor": 4
}
